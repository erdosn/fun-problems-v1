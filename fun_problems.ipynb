{
  "nbformat": 4,
  "nbformat_minor": 0,
  "metadata": {
    "colab": {
      "name": "fun-problems.ipynb",
      "version": "0.3.2",
      "provenance": [],
      "collapsed_sections": []
    },
    "kernelspec": {
      "name": "python3",
      "display_name": "Python 3"
    }
  },
  "cells": [
    {
      "cell_type": "code",
      "metadata": {
        "id": "-b6bC6vPTygo",
        "colab_type": "code",
        "colab": {}
      },
      "source": [
        "def is_prime(n):\n",
        "  \"\"\"\n",
        "  Input\n",
        "  n: int\n",
        "  \n",
        "  Return\n",
        "  Boolean: True if n is prime, False if n is not prime\n",
        "  \"\"\"\n",
        "  return None"
      ],
      "execution_count": 0,
      "outputs": []
    },
    {
      "cell_type": "code",
      "metadata": {
        "id": "8lUWKeVPUjRG",
        "colab_type": "code",
        "outputId": "314496a9-6780-4638-e2b6-0d54ba7a399a",
        "colab": {
          "base_uri": "https://localhost:8080/",
          "height": 232
        }
      },
      "source": [
        "assert is_prime(5) == True, \"{} is prime, function returned {}\".format(5, is_prime(5))\n",
        "print(\"passed test 1\")\n",
        "\n",
        "assert is_prime(15) == False, \"{} is not prime, function returned {}\".format(15, is_prime(15))\n",
        "print(\"passed test 2\")\n",
        "\n",
        "assert is_prime(7919) == True, \"{} is prime, function returned {}\".format(7919, is_prime(7919))\n",
        "print(\"passed test 3\")"
      ],
      "execution_count": 2,
      "outputs": [
        {
          "output_type": "error",
          "ename": "AssertionError",
          "evalue": "ignored",
          "traceback": [
            "\u001b[0;31m---------------------------------------------------------------------------\u001b[0m",
            "\u001b[0;31mAssertionError\u001b[0m                            Traceback (most recent call last)",
            "\u001b[0;32m<ipython-input-2-71a2b2e47d7c>\u001b[0m in \u001b[0;36m<module>\u001b[0;34m()\u001b[0m\n\u001b[0;32m----> 1\u001b[0;31m \u001b[0;32massert\u001b[0m \u001b[0mis_prime\u001b[0m\u001b[0;34m(\u001b[0m\u001b[0;36m5\u001b[0m\u001b[0;34m)\u001b[0m \u001b[0;34m==\u001b[0m \u001b[0;32mTrue\u001b[0m\u001b[0;34m,\u001b[0m \u001b[0;34m\"{} is prime, function returned {}\"\u001b[0m\u001b[0;34m.\u001b[0m\u001b[0mformat\u001b[0m\u001b[0;34m(\u001b[0m\u001b[0;36m5\u001b[0m\u001b[0;34m,\u001b[0m \u001b[0mis_prime\u001b[0m\u001b[0;34m(\u001b[0m\u001b[0;36m5\u001b[0m\u001b[0;34m)\u001b[0m\u001b[0;34m)\u001b[0m\u001b[0;34m\u001b[0m\u001b[0;34m\u001b[0m\u001b[0m\n\u001b[0m\u001b[1;32m      2\u001b[0m \u001b[0mprint\u001b[0m\u001b[0;34m(\u001b[0m\u001b[0;34m\"passed test 1\"\u001b[0m\u001b[0;34m)\u001b[0m\u001b[0;34m\u001b[0m\u001b[0;34m\u001b[0m\u001b[0m\n\u001b[1;32m      3\u001b[0m \u001b[0;34m\u001b[0m\u001b[0m\n\u001b[1;32m      4\u001b[0m \u001b[0;32massert\u001b[0m \u001b[0mis_prime\u001b[0m\u001b[0;34m(\u001b[0m\u001b[0;36m15\u001b[0m\u001b[0;34m)\u001b[0m \u001b[0;34m==\u001b[0m \u001b[0;32mFalse\u001b[0m\u001b[0;34m,\u001b[0m \u001b[0;34m\"{} is not prime, function returned {}\"\u001b[0m\u001b[0;34m.\u001b[0m\u001b[0mformat\u001b[0m\u001b[0;34m(\u001b[0m\u001b[0;36m15\u001b[0m\u001b[0;34m,\u001b[0m \u001b[0mis_prime\u001b[0m\u001b[0;34m(\u001b[0m\u001b[0;36m15\u001b[0m\u001b[0;34m)\u001b[0m\u001b[0;34m)\u001b[0m\u001b[0;34m\u001b[0m\u001b[0;34m\u001b[0m\u001b[0m\n\u001b[1;32m      5\u001b[0m \u001b[0mprint\u001b[0m\u001b[0;34m(\u001b[0m\u001b[0;34m\"passed test 2\"\u001b[0m\u001b[0;34m)\u001b[0m\u001b[0;34m\u001b[0m\u001b[0;34m\u001b[0m\u001b[0m\n",
            "\u001b[0;31mAssertionError\u001b[0m: 5 is prime, function returned None"
          ]
        }
      ]
    },
    {
      "cell_type": "code",
      "metadata": {
        "id": "J9mIUne3UDD3",
        "colab_type": "code",
        "colab": {}
      },
      "source": [
        "def squares_dict(n):\n",
        "  \"\"\"\n",
        "  Input\n",
        "  n: int\n",
        "  \n",
        "  Return\n",
        "  d: dict {1: 1, 2:4, 3:9, ..., n:n^2}\n",
        "  \"\"\"\n",
        "  return None"
      ],
      "execution_count": 0,
      "outputs": []
    },
    {
      "cell_type": "code",
      "metadata": {
        "id": "3IYWPCxxUiQO",
        "colab_type": "code",
        "colab": {}
      },
      "source": [
        "d = {1:1, 2: 4, 3: 9, 4: 16, 5: 25}\n",
        "assert squares_dict(5) == d, \"dictionary should equal {} but instead is {}\".format(d, squares_dict(5))\n",
        "print(\"passed test 1\")\n",
        "\n",
        "d = {1:1, 2: 4, 3: 9, 4: 16, 5: 25, 6:36, 7:49, 15:225}\n",
        "assert squares_dict(20)[15] == d[15], \"dictionary is missing value\"\n",
        "print(\"passed test 2\")\n",
        "\n",
        "d = {28: 28**2}\n",
        "assert squares_dict(40)[28] == d[28], \"dictionary is missing value\"\n",
        "print(\"passed test 3\")"
      ],
      "execution_count": 0,
      "outputs": []
    },
    {
      "cell_type": "markdown",
      "metadata": {
        "id": "EmC6OprjXKvn",
        "colab_type": "text"
      },
      "source": [
        "Taken from [source](https://www.geeksforgeeks.org/vampire-number/)\n",
        "\n",
        "\n",
        "In mathematics, a vampire number (or true vampire number) is a composite natural number v, with an even number of digits n, that can be factored into two integers x and y each with n/2 digits and not both with trailing zeroes, where v contains precisely all the digits from x and from y, in any order, counting multiplicity. x and y are called the fangs.\n",
        "\n",
        "\n",
        "Examples:\n",
        "\n",
        "- 1260 is a vampire number, with 21 and 60 as fangs, since 21 × 60 = 1260.\n",
        "\n",
        "- 126000 (which can be expressed as 21 × 6000 or 210 × 600) is not, as 21 and 6000 do not have the correct length, and both 210 and 600 have trailing zeroes"
      ]
    },
    {
      "cell_type": "code",
      "metadata": {
        "id": "0vS47woEW2Qh",
        "colab_type": "code",
        "colab": {}
      },
      "source": [
        "def find_vampire_numbers(n):\n",
        "  \"\"\"\n",
        "  input: n\n",
        "  \n",
        "  \n",
        "  return:\n",
        "  lst: list of all vampire numbers up to n\n",
        "  \"\"\"\n",
        "  return None"
      ],
      "execution_count": 0,
      "outputs": []
    },
    {
      "cell_type": "code",
      "metadata": {
        "id": "FAy1sQ7DXgDB",
        "colab_type": "code",
        "colab": {
          "base_uri": "https://localhost:8080/",
          "height": 269
        },
        "outputId": "af9cb8b0-ece1-4f65-938b-07430e33d80a"
      },
      "source": [
        "lst = [1260, 1395, 1435, 1530, 1827, 2187]\n",
        "assert find_vampire_numbers(3000) == lst, \"Your numbers are {}\\n Vampire Numbers expected are {}\".format(find_vampire_numbers(3000), lst)\n",
        "print(\"passed test 1\")\n",
        "\n",
        "lst = [1260, 1395, 1435, 1530, 1827, 2187, 6880]\n",
        "assert find_vampire_numbers(10000) == lst, \"Your numbers are {}\\n Vampire Numbers expected are {}\".format(find_vampire_numbers(10000), lst)\n",
        "print(\"passed test 2\")\n",
        "\n",
        "lst = [1260, 1395, 1435, 1530, 1827, 2187, 6880, 102510, 104260, 105210, 105264, 105750, 108135, 110758, 115672, 116725, 117067, 118440, 120600, 123354, 124483, 125248, 125433, 125460, 125500]\n",
        "assert find_vampire_numbers(125501) == lst, \"Your numbers are {}\\n Vampire Numbers expected are {}\".format(find_vampire_numbers(125501), lst)\n",
        "print(\"passed test 3\")\n",
        "  "
      ],
      "execution_count": 5,
      "outputs": [
        {
          "output_type": "error",
          "ename": "AssertionError",
          "evalue": "ignored",
          "traceback": [
            "\u001b[0;31m---------------------------------------------------------------------------\u001b[0m",
            "\u001b[0;31mAssertionError\u001b[0m                            Traceback (most recent call last)",
            "\u001b[0;32m<ipython-input-5-6e5995a84fa9>\u001b[0m in \u001b[0;36m<module>\u001b[0;34m()\u001b[0m\n\u001b[1;32m      1\u001b[0m \u001b[0mlst\u001b[0m \u001b[0;34m=\u001b[0m \u001b[0;34m[\u001b[0m\u001b[0;36m1260\u001b[0m\u001b[0;34m,\u001b[0m \u001b[0;36m1395\u001b[0m\u001b[0;34m,\u001b[0m \u001b[0;36m1435\u001b[0m\u001b[0;34m,\u001b[0m \u001b[0;36m1530\u001b[0m\u001b[0;34m,\u001b[0m \u001b[0;36m1827\u001b[0m\u001b[0;34m,\u001b[0m \u001b[0;36m2187\u001b[0m\u001b[0;34m]\u001b[0m\u001b[0;34m\u001b[0m\u001b[0;34m\u001b[0m\u001b[0m\n\u001b[0;32m----> 2\u001b[0;31m \u001b[0;32massert\u001b[0m \u001b[0mfind_vampire_numbers\u001b[0m\u001b[0;34m(\u001b[0m\u001b[0;36m3000\u001b[0m\u001b[0;34m)\u001b[0m \u001b[0;34m==\u001b[0m \u001b[0mlst\u001b[0m\u001b[0;34m,\u001b[0m \u001b[0;34m\"Your numbers are {}\\n Vampire Numbers expected are {}\"\u001b[0m\u001b[0;34m.\u001b[0m\u001b[0mformat\u001b[0m\u001b[0;34m(\u001b[0m\u001b[0mfind_vampire_numbers\u001b[0m\u001b[0;34m(\u001b[0m\u001b[0;36m3000\u001b[0m\u001b[0;34m)\u001b[0m\u001b[0;34m,\u001b[0m \u001b[0mlst\u001b[0m\u001b[0;34m)\u001b[0m\u001b[0;34m\u001b[0m\u001b[0;34m\u001b[0m\u001b[0m\n\u001b[0m\u001b[1;32m      3\u001b[0m \u001b[0mprint\u001b[0m\u001b[0;34m(\u001b[0m\u001b[0;34m\"passed test 1\"\u001b[0m\u001b[0;34m)\u001b[0m\u001b[0;34m\u001b[0m\u001b[0;34m\u001b[0m\u001b[0m\n\u001b[1;32m      4\u001b[0m \u001b[0;34m\u001b[0m\u001b[0m\n\u001b[1;32m      5\u001b[0m \u001b[0mlst\u001b[0m \u001b[0;34m=\u001b[0m \u001b[0;34m[\u001b[0m\u001b[0;36m1260\u001b[0m\u001b[0;34m,\u001b[0m \u001b[0;36m1395\u001b[0m\u001b[0;34m,\u001b[0m \u001b[0;36m1435\u001b[0m\u001b[0;34m,\u001b[0m \u001b[0;36m1530\u001b[0m\u001b[0;34m,\u001b[0m \u001b[0;36m1827\u001b[0m\u001b[0;34m,\u001b[0m \u001b[0;36m2187\u001b[0m\u001b[0;34m,\u001b[0m \u001b[0;36m6880\u001b[0m\u001b[0;34m]\u001b[0m\u001b[0;34m\u001b[0m\u001b[0;34m\u001b[0m\u001b[0m\n",
            "\u001b[0;31mAssertionError\u001b[0m: Your numbers are None\n Vampire Numbers expected are [1260, 1395, 1435, 1530, 1827, 2187]"
          ]
        }
      ]
    }
  ]
}